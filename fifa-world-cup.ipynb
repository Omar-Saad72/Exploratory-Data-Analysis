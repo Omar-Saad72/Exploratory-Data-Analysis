{
 "cells": [
  {
   "cell_type": "markdown",
   "metadata": {},
   "source": [
    "# Import required libraries"
   ]
  },
  {
   "cell_type": "code",
   "execution_count": 1,
   "metadata": {},
   "outputs": [],
   "source": [
    "import pandas as pd\n",
    "from datetime import datetime\n",
    "import matplotlib.pyplot as plt\n",
    "%matplotlib inline\n",
    "plt.rcParams[\"figure.figsize\"] = (8,5)\n",
    "pd.set_option('max_colwidth', None)\n",
    "pd.set_option(\"max_columns\", None) "
   ]
  },
  {
   "cell_type": "markdown",
   "metadata": {},
   "source": [
    "# Step 1: Select a real-world dataset"
   ]
  },
  {
   "cell_type": "markdown",
   "metadata": {},
   "source": [
    "# Fifa World Cup\n",
    "### Football Data Analysis on the matches data of fifa world cup from 1930 to 2014\n",
    "#### The data used here is from kaggle [https://www.kaggle.com/abecklas/fifa-world-cup]"
   ]
  },
  {
   "cell_type": "markdown",
   "metadata": {},
   "source": [
    "# Step 2: Perform data preparation & cleaning"
   ]
  },
  {
   "cell_type": "markdown",
   "metadata": {},
   "source": [
    "### Load the dataset into a data frame using Pandas"
   ]
  },
  {
   "cell_type": "code",
   "execution_count": 2,
   "metadata": {},
   "outputs": [],
   "source": [
    "matches = pd.read_csv('WorldCupMatches.csv')"
   ]
  },
  {
   "cell_type": "markdown",
   "metadata": {},
   "source": [
    "#### Show first 5 rows in the dataset"
   ]
  },
  {
   "cell_type": "code",
   "execution_count": 3,
   "metadata": {
    "scrolled": true
   },
   "outputs": [
    {
     "data": {
      "text/html": [
       "<div>\n",
       "<style scoped>\n",
       "    .dataframe tbody tr th:only-of-type {\n",
       "        vertical-align: middle;\n",
       "    }\n",
       "\n",
       "    .dataframe tbody tr th {\n",
       "        vertical-align: top;\n",
       "    }\n",
       "\n",
       "    .dataframe thead th {\n",
       "        text-align: right;\n",
       "    }\n",
       "</style>\n",
       "<table border=\"1\" class=\"dataframe\">\n",
       "  <thead>\n",
       "    <tr style=\"text-align: right;\">\n",
       "      <th></th>\n",
       "      <th>Year</th>\n",
       "      <th>Datetime</th>\n",
       "      <th>Stage</th>\n",
       "      <th>Stadium</th>\n",
       "      <th>City</th>\n",
       "      <th>Home Team Name</th>\n",
       "      <th>Home Team Goals</th>\n",
       "      <th>Away Team Goals</th>\n",
       "      <th>Away Team Name</th>\n",
       "      <th>Win conditions</th>\n",
       "      <th>Attendance</th>\n",
       "      <th>Half-time Home Goals</th>\n",
       "      <th>Half-time Away Goals</th>\n",
       "      <th>Referee</th>\n",
       "      <th>Assistant 1</th>\n",
       "      <th>Assistant 2</th>\n",
       "      <th>RoundID</th>\n",
       "      <th>MatchID</th>\n",
       "      <th>Home Team Initials</th>\n",
       "      <th>Away Team Initials</th>\n",
       "    </tr>\n",
       "  </thead>\n",
       "  <tbody>\n",
       "    <tr>\n",
       "      <th>0</th>\n",
       "      <td>1930.0</td>\n",
       "      <td>13 Jul 1930 - 15:00</td>\n",
       "      <td>Group 1</td>\n",
       "      <td>Pocitos</td>\n",
       "      <td>Montevideo</td>\n",
       "      <td>France</td>\n",
       "      <td>4.0</td>\n",
       "      <td>1.0</td>\n",
       "      <td>Mexico</td>\n",
       "      <td></td>\n",
       "      <td>4444.0</td>\n",
       "      <td>3.0</td>\n",
       "      <td>0.0</td>\n",
       "      <td>LOMBARDI Domingo (URU)</td>\n",
       "      <td>CRISTOPHE Henry (BEL)</td>\n",
       "      <td>REGO Gilberto (BRA)</td>\n",
       "      <td>201.0</td>\n",
       "      <td>1096.0</td>\n",
       "      <td>FRA</td>\n",
       "      <td>MEX</td>\n",
       "    </tr>\n",
       "    <tr>\n",
       "      <th>1</th>\n",
       "      <td>1930.0</td>\n",
       "      <td>13 Jul 1930 - 15:00</td>\n",
       "      <td>Group 4</td>\n",
       "      <td>Parque Central</td>\n",
       "      <td>Montevideo</td>\n",
       "      <td>USA</td>\n",
       "      <td>3.0</td>\n",
       "      <td>0.0</td>\n",
       "      <td>Belgium</td>\n",
       "      <td></td>\n",
       "      <td>18346.0</td>\n",
       "      <td>2.0</td>\n",
       "      <td>0.0</td>\n",
       "      <td>MACIAS Jose (ARG)</td>\n",
       "      <td>MATEUCCI Francisco (URU)</td>\n",
       "      <td>WARNKEN Alberto (CHI)</td>\n",
       "      <td>201.0</td>\n",
       "      <td>1090.0</td>\n",
       "      <td>USA</td>\n",
       "      <td>BEL</td>\n",
       "    </tr>\n",
       "    <tr>\n",
       "      <th>2</th>\n",
       "      <td>1930.0</td>\n",
       "      <td>14 Jul 1930 - 12:45</td>\n",
       "      <td>Group 2</td>\n",
       "      <td>Parque Central</td>\n",
       "      <td>Montevideo</td>\n",
       "      <td>Yugoslavia</td>\n",
       "      <td>2.0</td>\n",
       "      <td>1.0</td>\n",
       "      <td>Brazil</td>\n",
       "      <td></td>\n",
       "      <td>24059.0</td>\n",
       "      <td>2.0</td>\n",
       "      <td>0.0</td>\n",
       "      <td>TEJADA Anibal (URU)</td>\n",
       "      <td>VALLARINO Ricardo (URU)</td>\n",
       "      <td>BALWAY Thomas (FRA)</td>\n",
       "      <td>201.0</td>\n",
       "      <td>1093.0</td>\n",
       "      <td>YUG</td>\n",
       "      <td>BRA</td>\n",
       "    </tr>\n",
       "    <tr>\n",
       "      <th>3</th>\n",
       "      <td>1930.0</td>\n",
       "      <td>14 Jul 1930 - 14:50</td>\n",
       "      <td>Group 3</td>\n",
       "      <td>Pocitos</td>\n",
       "      <td>Montevideo</td>\n",
       "      <td>Romania</td>\n",
       "      <td>3.0</td>\n",
       "      <td>1.0</td>\n",
       "      <td>Peru</td>\n",
       "      <td></td>\n",
       "      <td>2549.0</td>\n",
       "      <td>1.0</td>\n",
       "      <td>0.0</td>\n",
       "      <td>WARNKEN Alberto (CHI)</td>\n",
       "      <td>LANGENUS Jean (BEL)</td>\n",
       "      <td>MATEUCCI Francisco (URU)</td>\n",
       "      <td>201.0</td>\n",
       "      <td>1098.0</td>\n",
       "      <td>ROU</td>\n",
       "      <td>PER</td>\n",
       "    </tr>\n",
       "    <tr>\n",
       "      <th>4</th>\n",
       "      <td>1930.0</td>\n",
       "      <td>15 Jul 1930 - 16:00</td>\n",
       "      <td>Group 1</td>\n",
       "      <td>Parque Central</td>\n",
       "      <td>Montevideo</td>\n",
       "      <td>Argentina</td>\n",
       "      <td>1.0</td>\n",
       "      <td>0.0</td>\n",
       "      <td>France</td>\n",
       "      <td></td>\n",
       "      <td>23409.0</td>\n",
       "      <td>0.0</td>\n",
       "      <td>0.0</td>\n",
       "      <td>REGO Gilberto (BRA)</td>\n",
       "      <td>SAUCEDO Ulises (BOL)</td>\n",
       "      <td>RADULESCU Constantin (ROU)</td>\n",
       "      <td>201.0</td>\n",
       "      <td>1085.0</td>\n",
       "      <td>ARG</td>\n",
       "      <td>FRA</td>\n",
       "    </tr>\n",
       "  </tbody>\n",
       "</table>\n",
       "</div>"
      ],
      "text/plain": [
       "     Year              Datetime    Stage         Stadium         City  \\\n",
       "0  1930.0  13 Jul 1930 - 15:00   Group 1         Pocitos  Montevideo    \n",
       "1  1930.0  13 Jul 1930 - 15:00   Group 4  Parque Central  Montevideo    \n",
       "2  1930.0  14 Jul 1930 - 12:45   Group 2  Parque Central  Montevideo    \n",
       "3  1930.0  14 Jul 1930 - 14:50   Group 3         Pocitos  Montevideo    \n",
       "4  1930.0  15 Jul 1930 - 16:00   Group 1  Parque Central  Montevideo    \n",
       "\n",
       "  Home Team Name  Home Team Goals  Away Team Goals Away Team Name  \\\n",
       "0         France              4.0              1.0         Mexico   \n",
       "1            USA              3.0              0.0        Belgium   \n",
       "2     Yugoslavia              2.0              1.0         Brazil   \n",
       "3        Romania              3.0              1.0           Peru   \n",
       "4      Argentina              1.0              0.0         France   \n",
       "\n",
       "  Win conditions  Attendance  Half-time Home Goals  Half-time Away Goals  \\\n",
       "0                     4444.0                   3.0                   0.0   \n",
       "1                    18346.0                   2.0                   0.0   \n",
       "2                    24059.0                   2.0                   0.0   \n",
       "3                     2549.0                   1.0                   0.0   \n",
       "4                    23409.0                   0.0                   0.0   \n",
       "\n",
       "                  Referee               Assistant 1  \\\n",
       "0  LOMBARDI Domingo (URU)     CRISTOPHE Henry (BEL)   \n",
       "1       MACIAS Jose (ARG)  MATEUCCI Francisco (URU)   \n",
       "2     TEJADA Anibal (URU)   VALLARINO Ricardo (URU)   \n",
       "3   WARNKEN Alberto (CHI)       LANGENUS Jean (BEL)   \n",
       "4     REGO Gilberto (BRA)      SAUCEDO Ulises (BOL)   \n",
       "\n",
       "                  Assistant 2  RoundID  MatchID Home Team Initials  \\\n",
       "0         REGO Gilberto (BRA)    201.0   1096.0                FRA   \n",
       "1       WARNKEN Alberto (CHI)    201.0   1090.0                USA   \n",
       "2         BALWAY Thomas (FRA)    201.0   1093.0                YUG   \n",
       "3    MATEUCCI Francisco (URU)    201.0   1098.0                ROU   \n",
       "4  RADULESCU Constantin (ROU)    201.0   1085.0                ARG   \n",
       "\n",
       "  Away Team Initials  \n",
       "0                MEX  \n",
       "1                BEL  \n",
       "2                BRA  \n",
       "3                PER  \n",
       "4                FRA  "
      ]
     },
     "execution_count": 3,
     "metadata": {},
     "output_type": "execute_result"
    }
   ],
   "source": [
    "matches.head()"
   ]
  },
  {
   "cell_type": "markdown",
   "metadata": {},
   "source": [
    "#### Dataset columns names, datatypes, number of non-null values"
   ]
  },
  {
   "cell_type": "code",
   "execution_count": 4,
   "metadata": {},
   "outputs": [
    {
     "name": "stdout",
     "output_type": "stream",
     "text": [
      "<class 'pandas.core.frame.DataFrame'>\n",
      "RangeIndex: 4572 entries, 0 to 4571\n",
      "Data columns (total 20 columns):\n",
      " #   Column                Non-Null Count  Dtype  \n",
      "---  ------                --------------  -----  \n",
      " 0   Year                  852 non-null    float64\n",
      " 1   Datetime              852 non-null    object \n",
      " 2   Stage                 852 non-null    object \n",
      " 3   Stadium               852 non-null    object \n",
      " 4   City                  852 non-null    object \n",
      " 5   Home Team Name        852 non-null    object \n",
      " 6   Home Team Goals       852 non-null    float64\n",
      " 7   Away Team Goals       852 non-null    float64\n",
      " 8   Away Team Name        852 non-null    object \n",
      " 9   Win conditions        852 non-null    object \n",
      " 10  Attendance            850 non-null    float64\n",
      " 11  Half-time Home Goals  852 non-null    float64\n",
      " 12  Half-time Away Goals  852 non-null    float64\n",
      " 13  Referee               852 non-null    object \n",
      " 14  Assistant 1           852 non-null    object \n",
      " 15  Assistant 2           852 non-null    object \n",
      " 16  RoundID               852 non-null    float64\n",
      " 17  MatchID               852 non-null    float64\n",
      " 18  Home Team Initials    852 non-null    object \n",
      " 19  Away Team Initials    852 non-null    object \n",
      "dtypes: float64(8), object(12)\n",
      "memory usage: 714.5+ KB\n"
     ]
    }
   ],
   "source": [
    "matches.info()"
   ]
  },
  {
   "cell_type": "markdown",
   "metadata": {},
   "source": [
    "### Explore the number of rows & columns."
   ]
  },
  {
   "cell_type": "code",
   "execution_count": 5,
   "metadata": {},
   "outputs": [
    {
     "name": "stdout",
     "output_type": "stream",
     "text": [
      "Our Data has 4,572 rows and 20 columns.\n"
     ]
    }
   ],
   "source": [
    "print('Our Data has {:,} rows and {} columns.'.format(matches.shape[0],matches.shape[1]))"
   ]
  },
  {
   "cell_type": "markdown",
   "metadata": {},
   "source": [
    "### Handle missing, incorrect and invalid data"
   ]
  },
  {
   "cell_type": "markdown",
   "metadata": {},
   "source": [
    "#### Number of null values"
   ]
  },
  {
   "cell_type": "code",
   "execution_count": 6,
   "metadata": {},
   "outputs": [
    {
     "name": "stdout",
     "output_type": "stream",
     "text": [
      "Column 'Year' has '3720' of its values equals null.\n",
      "Column 'Datetime' has '3720' of its values equals null.\n",
      "Column 'Stage' has '3720' of its values equals null.\n",
      "Column 'Stadium' has '3720' of its values equals null.\n",
      "Column 'City' has '3720' of its values equals null.\n",
      "Column 'Home Team Name' has '3720' of its values equals null.\n",
      "Column 'Home Team Goals' has '3720' of its values equals null.\n",
      "Column 'Away Team Goals' has '3720' of its values equals null.\n",
      "Column 'Away Team Name' has '3720' of its values equals null.\n",
      "Column 'Win conditions' has '3720' of its values equals null.\n",
      "Column 'Attendance' has '3722' of its values equals null.\n",
      "Column 'Half-time Home Goals' has '3720' of its values equals null.\n",
      "Column 'Half-time Away Goals' has '3720' of its values equals null.\n",
      "Column 'Referee' has '3720' of its values equals null.\n",
      "Column 'Assistant 1' has '3720' of its values equals null.\n",
      "Column 'Assistant 2' has '3720' of its values equals null.\n",
      "Column 'RoundID' has '3720' of its values equals null.\n",
      "Column 'MatchID' has '3720' of its values equals null.\n",
      "Column 'Home Team Initials' has '3720' of its values equals null.\n",
      "Column 'Away Team Initials' has '3720' of its values equals null.\n"
     ]
    }
   ],
   "source": [
    "num_null_ser = matches.isnull().sum()\n",
    "num_null_tup = tuple(zip(num_null_ser.index,num_null_ser))\n",
    "for i in num_null_tup:\n",
    "    print('Column \\'{}\\' has \\'{}\\' of its values equals null.'.format(i[0],round(i[1])))"
   ]
  },
  {
   "cell_type": "markdown",
   "metadata": {},
   "source": [
    "#### Handling null values"
   ]
  },
  {
   "cell_type": "code",
   "execution_count": 7,
   "metadata": {},
   "outputs": [],
   "source": [
    "#To leave only rows with meaningful values\n",
    "rem_val = len(matches)-num_null_ser[0]\n",
    "matches2 = matches.iloc[:rem_val,:]"
   ]
  },
  {
   "cell_type": "markdown",
   "metadata": {},
   "source": [
    "#### Check that there is no null values and we have complete data"
   ]
  },
  {
   "cell_type": "code",
   "execution_count": 8,
   "metadata": {},
   "outputs": [
    {
     "data": {
      "text/plain": [
       "Year                    0\n",
       "Datetime                0\n",
       "Stage                   0\n",
       "Stadium                 0\n",
       "City                    0\n",
       "Home Team Name          0\n",
       "Home Team Goals         0\n",
       "Away Team Goals         0\n",
       "Away Team Name          0\n",
       "Win conditions          0\n",
       "Attendance              2\n",
       "Half-time Home Goals    0\n",
       "Half-time Away Goals    0\n",
       "Referee                 0\n",
       "Assistant 1             0\n",
       "Assistant 2             0\n",
       "RoundID                 0\n",
       "MatchID                 0\n",
       "Home Team Initials      0\n",
       "Away Team Initials      0\n",
       "dtype: int64"
      ]
     },
     "execution_count": 8,
     "metadata": {},
     "output_type": "execute_result"
    }
   ],
   "source": [
    "matches2.isnull().sum()"
   ]
  },
  {
   "cell_type": "markdown",
   "metadata": {},
   "source": [
    "#### This means that there is still 2 attedance values equals null"
   ]
  },
  {
   "cell_type": "code",
   "execution_count": 9,
   "metadata": {},
   "outputs": [
    {
     "data": {
      "text/html": [
       "<div>\n",
       "<style scoped>\n",
       "    .dataframe tbody tr th:only-of-type {\n",
       "        vertical-align: middle;\n",
       "    }\n",
       "\n",
       "    .dataframe tbody tr th {\n",
       "        vertical-align: top;\n",
       "    }\n",
       "\n",
       "    .dataframe thead th {\n",
       "        text-align: right;\n",
       "    }\n",
       "</style>\n",
       "<table border=\"1\" class=\"dataframe\">\n",
       "  <thead>\n",
       "    <tr style=\"text-align: right;\">\n",
       "      <th></th>\n",
       "      <th>Year</th>\n",
       "      <th>Datetime</th>\n",
       "      <th>Stage</th>\n",
       "      <th>Stadium</th>\n",
       "      <th>City</th>\n",
       "      <th>Home Team Name</th>\n",
       "      <th>Home Team Goals</th>\n",
       "      <th>Away Team Goals</th>\n",
       "      <th>Away Team Name</th>\n",
       "      <th>Win conditions</th>\n",
       "      <th>Attendance</th>\n",
       "      <th>Half-time Home Goals</th>\n",
       "      <th>Half-time Away Goals</th>\n",
       "      <th>Referee</th>\n",
       "      <th>Assistant 1</th>\n",
       "      <th>Assistant 2</th>\n",
       "      <th>RoundID</th>\n",
       "      <th>MatchID</th>\n",
       "      <th>Home Team Initials</th>\n",
       "      <th>Away Team Initials</th>\n",
       "    </tr>\n",
       "  </thead>\n",
       "  <tbody>\n",
       "    <tr>\n",
       "      <th>823</th>\n",
       "      <td>2014.0</td>\n",
       "      <td>30 Jun 2014 - 17:00</td>\n",
       "      <td>Round of 16</td>\n",
       "      <td>Estadio Beira-Rio</td>\n",
       "      <td>Porto Alegre</td>\n",
       "      <td>Germany</td>\n",
       "      <td>2.0</td>\n",
       "      <td>1.0</td>\n",
       "      <td>Algeria</td>\n",
       "      <td>Germany win after extra time</td>\n",
       "      <td>NaN</td>\n",
       "      <td>0.0</td>\n",
       "      <td>0.0</td>\n",
       "      <td>RICCI Sandro (BRA)</td>\n",
       "      <td>DE CARVALHO Emerson (BRA)</td>\n",
       "      <td>VAN GASSE Marcelo (BRA)</td>\n",
       "      <td>255951.0</td>\n",
       "      <td>300186460.0</td>\n",
       "      <td>GER</td>\n",
       "      <td>ALG</td>\n",
       "    </tr>\n",
       "    <tr>\n",
       "      <th>841</th>\n",
       "      <td>2014.0</td>\n",
       "      <td>30 Jun 2014 - 17:00</td>\n",
       "      <td>Round of 16</td>\n",
       "      <td>Estadio Beira-Rio</td>\n",
       "      <td>Porto Alegre</td>\n",
       "      <td>Germany</td>\n",
       "      <td>2.0</td>\n",
       "      <td>1.0</td>\n",
       "      <td>Algeria</td>\n",
       "      <td>Germany win after extra time</td>\n",
       "      <td>NaN</td>\n",
       "      <td>0.0</td>\n",
       "      <td>0.0</td>\n",
       "      <td>RICCI Sandro (BRA)</td>\n",
       "      <td>DE CARVALHO Emerson (BRA)</td>\n",
       "      <td>VAN GASSE Marcelo (BRA)</td>\n",
       "      <td>255951.0</td>\n",
       "      <td>300186460.0</td>\n",
       "      <td>GER</td>\n",
       "      <td>ALG</td>\n",
       "    </tr>\n",
       "  </tbody>\n",
       "</table>\n",
       "</div>"
      ],
      "text/plain": [
       "       Year              Datetime        Stage            Stadium  \\\n",
       "823  2014.0  30 Jun 2014 - 17:00   Round of 16  Estadio Beira-Rio   \n",
       "841  2014.0  30 Jun 2014 - 17:00   Round of 16  Estadio Beira-Rio   \n",
       "\n",
       "              City Home Team Name  Home Team Goals  Away Team Goals  \\\n",
       "823  Porto Alegre         Germany              2.0              1.0   \n",
       "841  Porto Alegre         Germany              2.0              1.0   \n",
       "\n",
       "    Away Team Name                 Win conditions  Attendance  \\\n",
       "823        Algeria  Germany win after extra time          NaN   \n",
       "841        Algeria  Germany win after extra time          NaN   \n",
       "\n",
       "     Half-time Home Goals  Half-time Away Goals             Referee  \\\n",
       "823                   0.0                   0.0  RICCI Sandro (BRA)   \n",
       "841                   0.0                   0.0  RICCI Sandro (BRA)   \n",
       "\n",
       "                   Assistant 1              Assistant 2   RoundID  \\\n",
       "823  DE CARVALHO Emerson (BRA)  VAN GASSE Marcelo (BRA)  255951.0   \n",
       "841  DE CARVALHO Emerson (BRA)  VAN GASSE Marcelo (BRA)  255951.0   \n",
       "\n",
       "         MatchID Home Team Initials Away Team Initials  \n",
       "823  300186460.0                GER                ALG  \n",
       "841  300186460.0                GER                ALG  "
      ]
     },
     "execution_count": 9,
     "metadata": {},
     "output_type": "execute_result"
    }
   ],
   "source": [
    "matches2[matches2.Attendance.isnull() == True]"
   ]
  },
  {
   "cell_type": "markdown",
   "metadata": {},
   "source": [
    "#### It is redundant data that we can eliminate"
   ]
  },
  {
   "cell_type": "code",
   "execution_count": 10,
   "metadata": {},
   "outputs": [],
   "source": [
    "new_matches = matches2.copy()\n",
    "new_matches.drop([823,841],inplace=True)"
   ]
  },
  {
   "cell_type": "markdown",
   "metadata": {},
   "source": [
    "#### Check again"
   ]
  },
  {
   "cell_type": "code",
   "execution_count": 11,
   "metadata": {},
   "outputs": [
    {
     "data": {
      "text/plain": [
       "Year                    0\n",
       "Datetime                0\n",
       "Stage                   0\n",
       "Stadium                 0\n",
       "City                    0\n",
       "Home Team Name          0\n",
       "Home Team Goals         0\n",
       "Away Team Goals         0\n",
       "Away Team Name          0\n",
       "Win conditions          0\n",
       "Attendance              0\n",
       "Half-time Home Goals    0\n",
       "Half-time Away Goals    0\n",
       "Referee                 0\n",
       "Assistant 1             0\n",
       "Assistant 2             0\n",
       "RoundID                 0\n",
       "MatchID                 0\n",
       "Home Team Initials      0\n",
       "Away Team Initials      0\n",
       "dtype: int64"
      ]
     },
     "execution_count": 11,
     "metadata": {},
     "output_type": "execute_result"
    }
   ],
   "source": [
    "new_matches.isnull().sum()"
   ]
  },
  {
   "cell_type": "markdown",
   "metadata": {},
   "source": [
    "### Perform any additional steps (parsing dates, creating additional columns)"
   ]
  },
  {
   "cell_type": "markdown",
   "metadata": {},
   "source": [
    "#### Change numeric columns to int"
   ]
  },
  {
   "cell_type": "code",
   "execution_count": 12,
   "metadata": {},
   "outputs": [],
   "source": [
    "new_matches.loc[:,'Year'] = new_matches['Year'].astype(int)\n",
    "new_matches.loc[:,'Attendance'] = new_matches['Attendance'].astype(int)\n",
    "new_matches.loc[:,'Home Team Goals'] = new_matches['Home Team Goals'].astype(int)\n",
    "new_matches.loc[:,'Away Team Goals'] = new_matches['Away Team Goals'].astype(int)\n",
    "new_matches.loc[:,'Half-time Home Goals'] = new_matches['Half-time Home Goals'].astype(int)\n",
    "new_matches.loc[:,'Half-time Away Goals'] = new_matches['Half-time Away Goals'].astype(int)\n",
    "new_matches.loc[:,'Half-time Home Goals'] = new_matches['Half-time Home Goals'].astype(int)\n",
    "new_matches.loc[:,'RoundID'] = new_matches['RoundID'].astype(int)\n",
    "new_matches.loc[:,'MatchID'] = new_matches['MatchID'].astype(int)"
   ]
  },
  {
   "cell_type": "markdown",
   "metadata": {},
   "source": [
    "#### Add new columns 'Date' , 'Time'"
   ]
  },
  {
   "cell_type": "code",
   "execution_count": 13,
   "metadata": {},
   "outputs": [],
   "source": [
    "for lab, row in new_matches.iterrows():\n",
    "    arr_date = row['Datetime'].split(' - ', 1)\n",
    "    if arr_date[0][6] == ' ':\n",
    "        new_matches.loc[lab,'Date'] = datetime.strptime(arr_date[0], '%d %b %Y')\n",
    "    else:\n",
    "        new_matches.loc[lab,'Date'] = datetime.strptime(arr_date[0], '%d %B %Y')\n",
    "    time = datetime.strptime(arr_date[1], '%H:%M ')\n",
    "    new_matches.loc[lab,'Time'] = time.strftime(\"%H:%M\")"
   ]
  },
  {
   "cell_type": "markdown",
   "metadata": {},
   "source": [
    "#### Show the new added columns"
   ]
  },
  {
   "cell_type": "code",
   "execution_count": 14,
   "metadata": {},
   "outputs": [
    {
     "data": {
      "text/html": [
       "<div>\n",
       "<style scoped>\n",
       "    .dataframe tbody tr th:only-of-type {\n",
       "        vertical-align: middle;\n",
       "    }\n",
       "\n",
       "    .dataframe tbody tr th {\n",
       "        vertical-align: top;\n",
       "    }\n",
       "\n",
       "    .dataframe thead th {\n",
       "        text-align: right;\n",
       "    }\n",
       "</style>\n",
       "<table border=\"1\" class=\"dataframe\">\n",
       "  <thead>\n",
       "    <tr style=\"text-align: right;\">\n",
       "      <th></th>\n",
       "      <th>Date</th>\n",
       "      <th>Time</th>\n",
       "    </tr>\n",
       "  </thead>\n",
       "  <tbody>\n",
       "    <tr>\n",
       "      <th>0</th>\n",
       "      <td>1930-07-13</td>\n",
       "      <td>15:00</td>\n",
       "    </tr>\n",
       "    <tr>\n",
       "      <th>1</th>\n",
       "      <td>1930-07-13</td>\n",
       "      <td>15:00</td>\n",
       "    </tr>\n",
       "    <tr>\n",
       "      <th>2</th>\n",
       "      <td>1930-07-14</td>\n",
       "      <td>12:45</td>\n",
       "    </tr>\n",
       "    <tr>\n",
       "      <th>3</th>\n",
       "      <td>1930-07-14</td>\n",
       "      <td>14:50</td>\n",
       "    </tr>\n",
       "    <tr>\n",
       "      <th>4</th>\n",
       "      <td>1930-07-15</td>\n",
       "      <td>16:00</td>\n",
       "    </tr>\n",
       "    <tr>\n",
       "      <th>...</th>\n",
       "      <td>...</td>\n",
       "      <td>...</td>\n",
       "    </tr>\n",
       "    <tr>\n",
       "      <th>847</th>\n",
       "      <td>2014-07-05</td>\n",
       "      <td>17:00</td>\n",
       "    </tr>\n",
       "    <tr>\n",
       "      <th>848</th>\n",
       "      <td>2014-07-08</td>\n",
       "      <td>17:00</td>\n",
       "    </tr>\n",
       "    <tr>\n",
       "      <th>849</th>\n",
       "      <td>2014-07-09</td>\n",
       "      <td>17:00</td>\n",
       "    </tr>\n",
       "    <tr>\n",
       "      <th>850</th>\n",
       "      <td>2014-07-12</td>\n",
       "      <td>17:00</td>\n",
       "    </tr>\n",
       "    <tr>\n",
       "      <th>851</th>\n",
       "      <td>2014-07-13</td>\n",
       "      <td>16:00</td>\n",
       "    </tr>\n",
       "  </tbody>\n",
       "</table>\n",
       "<p>850 rows × 2 columns</p>\n",
       "</div>"
      ],
      "text/plain": [
       "          Date   Time\n",
       "0   1930-07-13  15:00\n",
       "1   1930-07-13  15:00\n",
       "2   1930-07-14  12:45\n",
       "3   1930-07-14  14:50\n",
       "4   1930-07-15  16:00\n",
       "..         ...    ...\n",
       "847 2014-07-05  17:00\n",
       "848 2014-07-08  17:00\n",
       "849 2014-07-09  17:00\n",
       "850 2014-07-12  17:00\n",
       "851 2014-07-13  16:00\n",
       "\n",
       "[850 rows x 2 columns]"
      ]
     },
     "execution_count": 14,
     "metadata": {},
     "output_type": "execute_result"
    }
   ],
   "source": [
    "new_matches[['Date','Time']]"
   ]
  },
  {
   "cell_type": "markdown",
   "metadata": {},
   "source": [
    "#### Remove 'Datetime' column"
   ]
  },
  {
   "cell_type": "code",
   "execution_count": 15,
   "metadata": {},
   "outputs": [],
   "source": [
    "new_matches.drop(['Datetime'], axis=1,inplace=True)"
   ]
  },
  {
   "cell_type": "markdown",
   "metadata": {},
   "source": [
    "#### Move the new columns to the left"
   ]
  },
  {
   "cell_type": "code",
   "execution_count": 16,
   "metadata": {},
   "outputs": [
    {
     "data": {
      "text/plain": [
       "Index(['Year', 'Stage', 'Stadium', 'City', 'Home Team Name', 'Home Team Goals',\n",
       "       'Away Team Goals', 'Away Team Name', 'Win conditions', 'Attendance',\n",
       "       'Half-time Home Goals', 'Half-time Away Goals', 'Referee',\n",
       "       'Assistant 1', 'Assistant 2', 'RoundID', 'MatchID',\n",
       "       'Home Team Initials', 'Away Team Initials', 'Date', 'Time'],\n",
       "      dtype='object')"
      ]
     },
     "execution_count": 16,
     "metadata": {},
     "output_type": "execute_result"
    }
   ],
   "source": [
    "new_matches.columns"
   ]
  },
  {
   "cell_type": "code",
   "execution_count": 17,
   "metadata": {},
   "outputs": [],
   "source": [
    "new_matches = new_matches[['Year','Date', 'Time', 'Stage', 'Stadium', 'City', 'Home Team Name', 'Home Team Goals',\n",
    "       'Away Team Goals', 'Away Team Name', 'Win conditions', 'Attendance',\n",
    "       'Half-time Home Goals', 'Half-time Away Goals', 'Referee',\n",
    "       'Assistant 1', 'Assistant 2', 'RoundID', 'MatchID',\n",
    "       'Home Team Initials', 'Away Team Initials']]"
   ]
  },
  {
   "cell_type": "markdown",
   "metadata": {},
   "source": [
    "#### Check that changes are applied"
   ]
  },
  {
   "cell_type": "code",
   "execution_count": 18,
   "metadata": {},
   "outputs": [
    {
     "data": {
      "text/html": [
       "<div>\n",
       "<style scoped>\n",
       "    .dataframe tbody tr th:only-of-type {\n",
       "        vertical-align: middle;\n",
       "    }\n",
       "\n",
       "    .dataframe tbody tr th {\n",
       "        vertical-align: top;\n",
       "    }\n",
       "\n",
       "    .dataframe thead th {\n",
       "        text-align: right;\n",
       "    }\n",
       "</style>\n",
       "<table border=\"1\" class=\"dataframe\">\n",
       "  <thead>\n",
       "    <tr style=\"text-align: right;\">\n",
       "      <th></th>\n",
       "      <th>Year</th>\n",
       "      <th>Date</th>\n",
       "      <th>Time</th>\n",
       "      <th>Stage</th>\n",
       "      <th>Stadium</th>\n",
       "      <th>City</th>\n",
       "      <th>Home Team Name</th>\n",
       "      <th>Home Team Goals</th>\n",
       "      <th>Away Team Goals</th>\n",
       "      <th>Away Team Name</th>\n",
       "      <th>Win conditions</th>\n",
       "      <th>Attendance</th>\n",
       "      <th>Half-time Home Goals</th>\n",
       "      <th>Half-time Away Goals</th>\n",
       "      <th>Referee</th>\n",
       "      <th>Assistant 1</th>\n",
       "      <th>Assistant 2</th>\n",
       "      <th>RoundID</th>\n",
       "      <th>MatchID</th>\n",
       "      <th>Home Team Initials</th>\n",
       "      <th>Away Team Initials</th>\n",
       "    </tr>\n",
       "  </thead>\n",
       "  <tbody>\n",
       "    <tr>\n",
       "      <th>0</th>\n",
       "      <td>1930</td>\n",
       "      <td>1930-07-13</td>\n",
       "      <td>15:00</td>\n",
       "      <td>Group 1</td>\n",
       "      <td>Pocitos</td>\n",
       "      <td>Montevideo</td>\n",
       "      <td>France</td>\n",
       "      <td>4</td>\n",
       "      <td>1</td>\n",
       "      <td>Mexico</td>\n",
       "      <td></td>\n",
       "      <td>4444</td>\n",
       "      <td>3</td>\n",
       "      <td>0</td>\n",
       "      <td>LOMBARDI Domingo (URU)</td>\n",
       "      <td>CRISTOPHE Henry (BEL)</td>\n",
       "      <td>REGO Gilberto (BRA)</td>\n",
       "      <td>201</td>\n",
       "      <td>1096</td>\n",
       "      <td>FRA</td>\n",
       "      <td>MEX</td>\n",
       "    </tr>\n",
       "    <tr>\n",
       "      <th>1</th>\n",
       "      <td>1930</td>\n",
       "      <td>1930-07-13</td>\n",
       "      <td>15:00</td>\n",
       "      <td>Group 4</td>\n",
       "      <td>Parque Central</td>\n",
       "      <td>Montevideo</td>\n",
       "      <td>USA</td>\n",
       "      <td>3</td>\n",
       "      <td>0</td>\n",
       "      <td>Belgium</td>\n",
       "      <td></td>\n",
       "      <td>18346</td>\n",
       "      <td>2</td>\n",
       "      <td>0</td>\n",
       "      <td>MACIAS Jose (ARG)</td>\n",
       "      <td>MATEUCCI Francisco (URU)</td>\n",
       "      <td>WARNKEN Alberto (CHI)</td>\n",
       "      <td>201</td>\n",
       "      <td>1090</td>\n",
       "      <td>USA</td>\n",
       "      <td>BEL</td>\n",
       "    </tr>\n",
       "    <tr>\n",
       "      <th>2</th>\n",
       "      <td>1930</td>\n",
       "      <td>1930-07-14</td>\n",
       "      <td>12:45</td>\n",
       "      <td>Group 2</td>\n",
       "      <td>Parque Central</td>\n",
       "      <td>Montevideo</td>\n",
       "      <td>Yugoslavia</td>\n",
       "      <td>2</td>\n",
       "      <td>1</td>\n",
       "      <td>Brazil</td>\n",
       "      <td></td>\n",
       "      <td>24059</td>\n",
       "      <td>2</td>\n",
       "      <td>0</td>\n",
       "      <td>TEJADA Anibal (URU)</td>\n",
       "      <td>VALLARINO Ricardo (URU)</td>\n",
       "      <td>BALWAY Thomas (FRA)</td>\n",
       "      <td>201</td>\n",
       "      <td>1093</td>\n",
       "      <td>YUG</td>\n",
       "      <td>BRA</td>\n",
       "    </tr>\n",
       "    <tr>\n",
       "      <th>3</th>\n",
       "      <td>1930</td>\n",
       "      <td>1930-07-14</td>\n",
       "      <td>14:50</td>\n",
       "      <td>Group 3</td>\n",
       "      <td>Pocitos</td>\n",
       "      <td>Montevideo</td>\n",
       "      <td>Romania</td>\n",
       "      <td>3</td>\n",
       "      <td>1</td>\n",
       "      <td>Peru</td>\n",
       "      <td></td>\n",
       "      <td>2549</td>\n",
       "      <td>1</td>\n",
       "      <td>0</td>\n",
       "      <td>WARNKEN Alberto (CHI)</td>\n",
       "      <td>LANGENUS Jean (BEL)</td>\n",
       "      <td>MATEUCCI Francisco (URU)</td>\n",
       "      <td>201</td>\n",
       "      <td>1098</td>\n",
       "      <td>ROU</td>\n",
       "      <td>PER</td>\n",
       "    </tr>\n",
       "    <tr>\n",
       "      <th>4</th>\n",
       "      <td>1930</td>\n",
       "      <td>1930-07-15</td>\n",
       "      <td>16:00</td>\n",
       "      <td>Group 1</td>\n",
       "      <td>Parque Central</td>\n",
       "      <td>Montevideo</td>\n",
       "      <td>Argentina</td>\n",
       "      <td>1</td>\n",
       "      <td>0</td>\n",
       "      <td>France</td>\n",
       "      <td></td>\n",
       "      <td>23409</td>\n",
       "      <td>0</td>\n",
       "      <td>0</td>\n",
       "      <td>REGO Gilberto (BRA)</td>\n",
       "      <td>SAUCEDO Ulises (BOL)</td>\n",
       "      <td>RADULESCU Constantin (ROU)</td>\n",
       "      <td>201</td>\n",
       "      <td>1085</td>\n",
       "      <td>ARG</td>\n",
       "      <td>FRA</td>\n",
       "    </tr>\n",
       "  </tbody>\n",
       "</table>\n",
       "</div>"
      ],
      "text/plain": [
       "   Year       Date   Time    Stage         Stadium         City  \\\n",
       "0  1930 1930-07-13  15:00  Group 1         Pocitos  Montevideo    \n",
       "1  1930 1930-07-13  15:00  Group 4  Parque Central  Montevideo    \n",
       "2  1930 1930-07-14  12:45  Group 2  Parque Central  Montevideo    \n",
       "3  1930 1930-07-14  14:50  Group 3         Pocitos  Montevideo    \n",
       "4  1930 1930-07-15  16:00  Group 1  Parque Central  Montevideo    \n",
       "\n",
       "  Home Team Name  Home Team Goals  Away Team Goals Away Team Name  \\\n",
       "0         France                4                1         Mexico   \n",
       "1            USA                3                0        Belgium   \n",
       "2     Yugoslavia                2                1         Brazil   \n",
       "3        Romania                3                1           Peru   \n",
       "4      Argentina                1                0         France   \n",
       "\n",
       "  Win conditions  Attendance  Half-time Home Goals  Half-time Away Goals  \\\n",
       "0                       4444                     3                     0   \n",
       "1                      18346                     2                     0   \n",
       "2                      24059                     2                     0   \n",
       "3                       2549                     1                     0   \n",
       "4                      23409                     0                     0   \n",
       "\n",
       "                  Referee               Assistant 1  \\\n",
       "0  LOMBARDI Domingo (URU)     CRISTOPHE Henry (BEL)   \n",
       "1       MACIAS Jose (ARG)  MATEUCCI Francisco (URU)   \n",
       "2     TEJADA Anibal (URU)   VALLARINO Ricardo (URU)   \n",
       "3   WARNKEN Alberto (CHI)       LANGENUS Jean (BEL)   \n",
       "4     REGO Gilberto (BRA)      SAUCEDO Ulises (BOL)   \n",
       "\n",
       "                  Assistant 2  RoundID  MatchID Home Team Initials  \\\n",
       "0         REGO Gilberto (BRA)      201     1096                FRA   \n",
       "1       WARNKEN Alberto (CHI)      201     1090                USA   \n",
       "2         BALWAY Thomas (FRA)      201     1093                YUG   \n",
       "3    MATEUCCI Francisco (URU)      201     1098                ROU   \n",
       "4  RADULESCU Constantin (ROU)      201     1085                ARG   \n",
       "\n",
       "  Away Team Initials  \n",
       "0                MEX  \n",
       "1                BEL  \n",
       "2                BRA  \n",
       "3                PER  \n",
       "4                FRA  "
      ]
     },
     "execution_count": 18,
     "metadata": {},
     "output_type": "execute_result"
    }
   ],
   "source": [
    "new_matches.head()"
   ]
  },
  {
   "cell_type": "markdown",
   "metadata": {},
   "source": [
    "# Step 3: Perform exploratory analysis & visualization"
   ]
  },
  {
   "cell_type": "markdown",
   "metadata": {},
   "source": [
    "### Compute the mean, sum, range and other interesting statistics for numeric columns"
   ]
  },
  {
   "cell_type": "code",
   "execution_count": 19,
   "metadata": {},
   "outputs": [
    {
     "data": {
      "text/html": [
       "<div>\n",
       "<style scoped>\n",
       "    .dataframe tbody tr th:only-of-type {\n",
       "        vertical-align: middle;\n",
       "    }\n",
       "\n",
       "    .dataframe tbody tr th {\n",
       "        vertical-align: top;\n",
       "    }\n",
       "\n",
       "    .dataframe thead th {\n",
       "        text-align: right;\n",
       "    }\n",
       "</style>\n",
       "<table border=\"1\" class=\"dataframe\">\n",
       "  <thead>\n",
       "    <tr style=\"text-align: right;\">\n",
       "      <th></th>\n",
       "      <th>Year</th>\n",
       "      <th>Home Team Goals</th>\n",
       "      <th>Away Team Goals</th>\n",
       "      <th>Attendance</th>\n",
       "      <th>Half-time Home Goals</th>\n",
       "      <th>Half-time Away Goals</th>\n",
       "      <th>RoundID</th>\n",
       "      <th>MatchID</th>\n",
       "    </tr>\n",
       "  </thead>\n",
       "  <tbody>\n",
       "    <tr>\n",
       "      <th>count</th>\n",
       "      <td>850.000000</td>\n",
       "      <td>850.000000</td>\n",
       "      <td>850.000000</td>\n",
       "      <td>850.000000</td>\n",
       "      <td>850.000000</td>\n",
       "      <td>850.000000</td>\n",
       "      <td>8.500000e+02</td>\n",
       "      <td>8.500000e+02</td>\n",
       "    </tr>\n",
       "    <tr>\n",
       "      <th>mean</th>\n",
       "      <td>1985.021176</td>\n",
       "      <td>1.810588</td>\n",
       "      <td>1.022353</td>\n",
       "      <td>45164.800000</td>\n",
       "      <td>0.710588</td>\n",
       "      <td>0.429412</td>\n",
       "      <td>1.068626e+07</td>\n",
       "      <td>6.078489e+07</td>\n",
       "    </tr>\n",
       "    <tr>\n",
       "      <th>std</th>\n",
       "      <td>22.431301</td>\n",
       "      <td>1.612125</td>\n",
       "      <td>1.088853</td>\n",
       "      <td>23485.249247</td>\n",
       "      <td>0.937885</td>\n",
       "      <td>0.691752</td>\n",
       "      <td>2.732359e+07</td>\n",
       "      <td>1.105805e+08</td>\n",
       "    </tr>\n",
       "    <tr>\n",
       "      <th>min</th>\n",
       "      <td>1930.000000</td>\n",
       "      <td>0.000000</td>\n",
       "      <td>0.000000</td>\n",
       "      <td>2000.000000</td>\n",
       "      <td>0.000000</td>\n",
       "      <td>0.000000</td>\n",
       "      <td>2.010000e+02</td>\n",
       "      <td>2.500000e+01</td>\n",
       "    </tr>\n",
       "    <tr>\n",
       "      <th>25%</th>\n",
       "      <td>1970.000000</td>\n",
       "      <td>1.000000</td>\n",
       "      <td>0.000000</td>\n",
       "      <td>30000.000000</td>\n",
       "      <td>0.000000</td>\n",
       "      <td>0.000000</td>\n",
       "      <td>2.620000e+02</td>\n",
       "      <td>1.188250e+03</td>\n",
       "    </tr>\n",
       "    <tr>\n",
       "      <th>50%</th>\n",
       "      <td>1990.000000</td>\n",
       "      <td>2.000000</td>\n",
       "      <td>1.000000</td>\n",
       "      <td>41579.500000</td>\n",
       "      <td>0.000000</td>\n",
       "      <td>0.000000</td>\n",
       "      <td>3.370000e+02</td>\n",
       "      <td>2.184000e+03</td>\n",
       "    </tr>\n",
       "    <tr>\n",
       "      <th>75%</th>\n",
       "      <td>2002.000000</td>\n",
       "      <td>3.000000</td>\n",
       "      <td>2.000000</td>\n",
       "      <td>61374.500000</td>\n",
       "      <td>1.000000</td>\n",
       "      <td>1.000000</td>\n",
       "      <td>2.497220e+05</td>\n",
       "      <td>4.395006e+07</td>\n",
       "    </tr>\n",
       "    <tr>\n",
       "      <th>max</th>\n",
       "      <td>2014.000000</td>\n",
       "      <td>10.000000</td>\n",
       "      <td>7.000000</td>\n",
       "      <td>173850.000000</td>\n",
       "      <td>6.000000</td>\n",
       "      <td>5.000000</td>\n",
       "      <td>9.741060e+07</td>\n",
       "      <td>3.001865e+08</td>\n",
       "    </tr>\n",
       "  </tbody>\n",
       "</table>\n",
       "</div>"
      ],
      "text/plain": [
       "              Year  Home Team Goals  Away Team Goals     Attendance  \\\n",
       "count   850.000000       850.000000       850.000000     850.000000   \n",
       "mean   1985.021176         1.810588         1.022353   45164.800000   \n",
       "std      22.431301         1.612125         1.088853   23485.249247   \n",
       "min    1930.000000         0.000000         0.000000    2000.000000   \n",
       "25%    1970.000000         1.000000         0.000000   30000.000000   \n",
       "50%    1990.000000         2.000000         1.000000   41579.500000   \n",
       "75%    2002.000000         3.000000         2.000000   61374.500000   \n",
       "max    2014.000000        10.000000         7.000000  173850.000000   \n",
       "\n",
       "       Half-time Home Goals  Half-time Away Goals       RoundID       MatchID  \n",
       "count            850.000000            850.000000  8.500000e+02  8.500000e+02  \n",
       "mean               0.710588              0.429412  1.068626e+07  6.078489e+07  \n",
       "std                0.937885              0.691752  2.732359e+07  1.105805e+08  \n",
       "min                0.000000              0.000000  2.010000e+02  2.500000e+01  \n",
       "25%                0.000000              0.000000  2.620000e+02  1.188250e+03  \n",
       "50%                0.000000              0.000000  3.370000e+02  2.184000e+03  \n",
       "75%                1.000000              1.000000  2.497220e+05  4.395006e+07  \n",
       "max                6.000000              5.000000  9.741060e+07  3.001865e+08  "
      ]
     },
     "execution_count": 19,
     "metadata": {},
     "output_type": "execute_result"
    }
   ],
   "source": [
    "new_matches.describe()"
   ]
  },
  {
   "cell_type": "markdown",
   "metadata": {},
   "source": [
    "#### Min and Max values indcates that data is normal"
   ]
  },
  {
   "cell_type": "markdown",
   "metadata": {},
   "source": [
    "### Explore distributions of numeric columns using histograms etc."
   ]
  },
  {
   "cell_type": "code",
   "execution_count": 20,
   "metadata": {},
   "outputs": [
    {
     "data": {
      "image/png": "[encoded data removed]",
      "text/plain": [
       "<Figure size 864x576 with 4 Axes>"
      ]
     },
     "metadata": {
      "needs_background": "light"
     },
     "output_type": "display_data"
    }
   ],
   "source": [
    "fig, axes = plt.subplots(2, 2, figsize=(12, 8))\n",
    "\n",
    "axes[0,0].set_title('Histogram of Year',fontsize=18)\n",
    "axes[0,0].set_xlabel('Year',fontsize=14)\n",
    "axes[0,0].set_ylabel('Frequency',fontsize=14)\n",
    "axes[0,0].hist(new_matches['Year'])\n",
    "\n",
    "\n",
    "axes[0,1].set_title('Histogram of Home Team Goals',fontsize=18)\n",
    "axes[0,1].set_xlabel('Home Team Goals',fontsize=14)\n",
    "axes[0,1].set_ylabel('Frequency',fontsize=14)\n",
    "axes[0,1].hist(new_matches['Home Team Goals'])\n",
    "\n",
    "\n",
    "axes[1,0].set_title('Histogram of Away Team Goals',fontsize=18)\n",
    "axes[1,0].set_xlabel('Away Team Goals',fontsize=14)\n",
    "axes[1,0].set_ylabel('Frequency',fontsize=14)\n",
    "axes[1,0].hist(new_matches['Away Team Goals'])\n",
    "\n",
    "\n",
    "axes[1,1].set_title('Histogram of Attendance',fontsize=18)\n",
    "axes[1,1].set_xlabel('Attendance',fontsize=14)\n",
    "axes[1,1].set_ylabel('Frequency',fontsize=14)\n",
    "axes[1,1].hist(new_matches['Attendance'])\n",
    "\n",
    "\n",
    "\n",
    "plt.tight_layout(pad=2);\n",
    "plt.show()"
   ]
  },
  {
   "cell_type": "markdown",
   "metadata": {},
   "source": [
    "#### -In Histogram of Year we notice that there is a gap between 1938 and 1950 as there is no world cup in this duration due to world war || \n",
    "#### -In Histograms of  Home and Away Team Goals we notice that nearly all teams scores range from 0 to 4 \n",
    "\n",
    "#### -In Histogram of Attendance we notice that the mean of the value is about 50,000 "
   ]
  },
  {
   "cell_type": "markdown",
   "metadata": {},
   "source": [
    "# Step 4: Ask & answer questions about the data"
   ]
  },
  {
   "cell_type": "markdown",
   "metadata": {},
   "source": [
    "### 1-What is the most city host matches in fifa world cup ? "
   ]
  },
  {
   "cell_type": "code",
   "execution_count": 21,
   "metadata": {},
   "outputs": [
    {
     "name": "stdout",
     "output_type": "stream",
     "text": [
      "The most city host matches in fifa world cup is 'Mexico City ' with 23 matches.\n"
     ]
    }
   ],
   "source": [
    "city = (new_matches.City.mode().item())\n",
    "no_matches = len(new_matches[new_matches.City == city])\n",
    "print('The most city host matches in fifa world cup is \\'{}\\' with {} matches.'.format(city,no_matches))"
   ]
  },
  {
   "cell_type": "markdown",
   "metadata": {},
   "source": [
    "### 2-How many matches ended in extra time or penalties ?"
   ]
  },
  {
   "cell_type": "code",
   "execution_count": 22,
   "metadata": {},
   "outputs": [
    {
     "name": "stdout",
     "output_type": "stream",
     "text": [
      "63 matches ended in extra time or penalties.\n"
     ]
    }
   ],
   "source": [
    "#Number of matches ended in 90 mintues\n",
    "matches_90 = len(new_matches [new_matches['Win conditions'] == ' '])\n",
    "#Number of matches ended in extra times or penalties \n",
    "matches_ext_pen = len(new_matches) - matches_90\n",
    "print('{} matches ended in extra time or penalties.'.format(matches_ext_pen))"
   ]
  },
  {
   "cell_type": "markdown",
   "metadata": {},
   "source": [
    "### 3-Who is the most team palyed matches ? "
   ]
  },
  {
   "cell_type": "code",
   "execution_count": 23,
   "metadata": {},
   "outputs": [
    {
     "name": "stdout",
     "output_type": "stream",
     "text": [
      "'Brazil' is the most team palyed matches with 108 matches.\n"
     ]
    }
   ],
   "source": [
    "home_teams = new_matches['Home Team Name'].value_counts()\n",
    "away_teams = new_matches['Away Team Name'].value_counts()\n",
    "all_teams = home_teams + away_teams\n",
    "all_teams.sort_values(ascending=False,inplace=True)\n",
    "most_team = all_teams.index[0]\n",
    "most_team_matches = int(all_teams[0])\n",
    "print('\\'{}\\' is the most team palyed matches with {} matches.'.format(most_team,most_team_matches))"
   ]
  },
  {
   "cell_type": "markdown",
   "metadata": {},
   "source": [
    "### 4-How many matches Egypt played ?"
   ]
  },
  {
   "cell_type": "code",
   "execution_count": 24,
   "metadata": {},
   "outputs": [
    {
     "name": "stdout",
     "output_type": "stream",
     "text": [
      "Egypt played 4 matches.\n"
     ]
    }
   ],
   "source": [
    "egy_matches =len(new_matches[(new_matches['Home Team Name'] == 'Egypt')|(new_matches['Away Team Name'] == 'Egypt')])\n",
    "print('Egypt played {} matches.'.format(egy_matches))"
   ]
  },
  {
   "cell_type": "markdown",
   "metadata": {},
   "source": [
    "### 5- Who is the top five referees who have officiated the most numbers of matches ?"
   ]
  },
  {
   "cell_type": "code",
   "execution_count": 25,
   "metadata": {},
   "outputs": [
    {
     "data": {
      "image/png": "[encoded data removed]",
      "text/plain": [
       "<Figure size 864x576 with 1 Axes>"
      ]
     },
     "metadata": {
      "needs_background": "light"
     },
     "output_type": "display_data"
    }
   ],
   "source": [
    "referees = new_matches['Referee'].value_counts().head(5)\n",
    "plt.figure(figsize=(12,8))\n",
    "plt.title('Referees with most matches',fontsize=18)\n",
    "plt.xlabel('Referee Name',fontsize=14)\n",
    "plt.ylabel('Number of matches',fontsize=14)\n",
    "plt.bar(referees.index,referees.values)\n",
    "plt.show()"
   ]
  },
  {
   "cell_type": "markdown",
   "metadata": {},
   "source": [
    "### Ravshan IRMATOV from UZB refereed 10 matches { Most One }"
   ]
  },
  {
   "cell_type": "markdown",
   "metadata": {},
   "source": [
    "### 6-What is the top ten cities that held the most number of matches?"
   ]
  },
  {
   "cell_type": "code",
   "execution_count": 26,
   "metadata": {},
   "outputs": [
    {
     "data": {
      "image/png": "[encoded data removed]",
      "text/plain": [
       "<Figure size 1008x576 with 1 Axes>"
      ]
     },
     "metadata": {
      "needs_background": "light"
     },
     "output_type": "display_data"
    }
   ],
   "source": [
    "cities = new_matches['City'].value_counts().head(10)\n",
    "plt.figure(figsize=(14,8))\n",
    "plt.title('Cities with most matches',fontsize=18)\n",
    "plt.xlabel('City',fontsize=14)\n",
    "plt.ylabel('Number of matches',fontsize=14)\n",
    "plt.bar(cities.index,cities.values)\n",
    "plt.show()"
   ]
  },
  {
   "cell_type": "code",
   "execution_count": 29,
   "metadata": {},
   "outputs": [
    {
     "data": {
      "text/plain": [
       "Mexico City        23\n",
       "Montevideo         18\n",
       "Rio De Janeiro     18\n",
       "Guadalajara        17\n",
       "Johannesburg       15\n",
       "Sao Paulo          14\n",
       "Buenos Aires       12\n",
       "Munich             11\n",
       "Leon               11\n",
       "Belo Horizonte     11\n",
       "Name: City, dtype: int64"
      ]
     },
     "execution_count": 29,
     "metadata": {},
     "output_type": "execute_result"
    }
   ],
   "source": [
    "new_matches['City'].value_counts().head(10)"
   ]
  },
  {
   "cell_type": "markdown",
   "metadata": {},
   "source": [
    "### Mexico City is the most city helds matches in World cup histroy with 10 matches."
   ]
  },
  {
   "cell_type": "markdown",
   "metadata": {},
   "source": [
    "### 7-What is the total number of goals scored in each world cup edition?"
   ]
  },
  {
   "cell_type": "code",
   "execution_count": 27,
   "metadata": {},
   "outputs": [
    {
     "data": {
      "image/png": "[encoded data removed]",
      "text/plain": [
       "<Figure size 1008x576 with 1 Axes>"
      ]
     },
     "metadata": {
      "needs_background": "light"
     },
     "output_type": "display_data"
    }
   ],
   "source": [
    "goals = new_matches.groupby('Year')[['Home Team Goals','Away Team Goals']].sum()\n",
    "goals['Total'] = goals['Home Team Goals'] + goals['Away Team Goals']\n",
    "\n",
    "plt.figure(figsize=(14,8))\n",
    "plt.title('Number of goals in each edition',fontsize=18)\n",
    "plt.xlabel('Edition',fontsize=14)\n",
    "plt.ylabel('Number of goals',fontsize=14)\n",
    "plt.xticks(goals.index)\n",
    "plt.bar(goals.index,goals.Total)\n",
    "plt.show()"
   ]
  },
  {
   "cell_type": "markdown",
   "metadata": {},
   "source": [
    "### We can see that recent editions of world cup has more goals scored than old editions"
   ]
  },
  {
   "cell_type": "markdown",
   "metadata": {},
   "source": [
    "# Conclusion "
   ]
  },
  {
   "cell_type": "markdown",
   "metadata": {},
   "source": [
    "### We have done data analysis project about Football matches [Fifa world cup] started by cleaning [Removing \n",
    "\n",
    "### Null  values] and preparing [Modify Data Types] data to be ready for analysis then d exploratory analysis \n",
    "\n",
    "### [Show  columns statistics] & visualization by using graphs like histograms , Finally asked interesting \n",
    "\n",
    "### questions on our dataset and answered them either by simple text answers or visualizations which give us \n",
    "\n",
    "### the answer in form of graph accompanied by explantaion for each graph. "
   ]
  },
  {
   "cell_type": "markdown",
   "metadata": {},
   "source": [
    "# References "
   ]
  },
  {
   "cell_type": "markdown",
   "metadata": {},
   "source": [
    "### The data used here is from [kaggle Website](#https://www.kaggle.com/abecklas/fifa-world-cup)\n",
    "### This project is part from course {Data Analysis with Python: Zero to Pandas} on [Jovian website](#https://jovian.ai/learn/data-analysis-with-python-zero-to-pandas)"
   ]
  }
 ],
 "metadata": {
  "language_info": {
   "codemirror_mode": {
    "name": "ipython",
    "version": 3
   },
   "file_extension": ".py",
   "mimetype": "text/x-python",
   "name": "python",
   "nbconvert_exporter": "python",
   "pygments_lexer": "ipython3",
   "version": "3.9.7"
  }
 },
 "nbformat": 4,
 "nbformat_minor": 4
}